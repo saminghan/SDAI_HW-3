{
 "cells": [
  {
   "cell_type": "code",
   "execution_count": 2,
   "metadata": {
    "scrolled": true
   },
   "outputs": [
    {
     "name": "stdout",
     "output_type": "stream",
     "text": [
      "The downloaded data in ndarray format\n",
      "[{'sno': '1001', 'sna': '大鵬華城', 'tot': '38', 'sbi': '25', 'sarea': '新店區', 'mday': '20201023111443', 'lat': '24.99116', 'lng': '121.53398', 'ar': '新北市新店區中正路700巷3號', 'sareaen': 'Xindian Dist.', 'snaen': 'Dapeng Community', 'aren': 'No. 3, Lane 700 Chung Cheng Road, Xindian District', 'bemp': '13', 'act': '1'}\n",
      " {'sno': '1002', 'sna': '汐止火車站', 'tot': '56', 'sbi': '39', 'sarea': '汐止區', 'mday': '20201023111427', 'lat': '25.068914', 'lng': '121.662748', 'ar': '南昌街/新昌路口(西側廣場)', 'sareaen': 'Xizhi Dist.', 'snaen': 'Xizhi Railway Station', 'aren': 'Nanchang St./Xinchang Rd.', 'bemp': '17', 'act': '1'}\n",
      " {'sno': '1003', 'sna': '汐止區公所', 'tot': '46', 'sbi': '15', 'sarea': '汐止區', 'mday': '20201023111424', 'lat': '25.064162', 'lng': '121.658301', 'ar': '新台五路一段/仁愛路口(新台五路側汐止地政事務所前機車停車場)', 'sareaen': 'Xizhi Dist.', 'snaen': 'Xizhi Dist. Office', 'aren': 'Sec. 1, Xintai 5th Rd./Ren’ai Rd.', 'bemp': '28', 'act': '1'}\n",
      " {'sno': '1004', 'sna': '國泰綜合醫院', 'tot': '56', 'sbi': '33', 'sarea': '汐止區', 'mday': '20201023111436', 'lat': '25.07315', 'lng': '121.662555', 'ar': '建成路78號對面停車場', 'sareaen': 'Xizhi Dist.', 'snaen': 'Cathay General Hospital', 'aren': 'No78, Jiancheng Rd', 'bemp': '23', 'act': '1'}\n",
      " {'sno': '1005', 'sna': '裕隆公園', 'tot': '40', 'sbi': '23', 'sarea': '新店區', 'mday': '20201023111421', 'lat': '24.979649', 'lng': '121.546319', 'ar': '寶中路/品牌路口(東南側)', 'sareaen': 'Xindian Dist.', 'snaen': 'Yulon Park', 'aren': 'Baozhong Rd./', 'bemp': '17', 'act': '1'}\n",
      " {'sno': '1006', 'sna': '捷運大坪林站(5號出口)', 'tot': '94', 'sbi': '33', 'sarea': '新店區', 'mday': '20201023111428', 'lat': '24.982830', 'lng': '121.543620', 'ar': '中興路三段224號(對面)', 'sareaen': 'Xindian Dist.', 'snaen': 'MRT DaPingLin Station(Exit.5)', 'aren': 'No. 224, Sec. 3, Zhongxing Rd., Xindian Dist.(opposite)', 'bemp': '60', 'act': '1'}\n",
      " {'sno': '1007', 'sna': '汐科火車站(北)', 'tot': '34', 'sbi': '8', 'sarea': '汐止區', 'mday': '20201023111435', 'lat': '25.064106', 'lng': '121.653019', 'ar': '大同路二段184巷/龍安路202巷(西側)(汐科火車站北站出口前)', 'sareaen': 'Xizhi Dist.', 'snaen': 'Xike Railway Station(North)', 'aren': 'Ln. 184,Sec. 2, Datong Rd./Ln. 202,Long’an Rd.', 'bemp': '26', 'act': '1'}\n",
      " {'sno': '1008', 'sna': '興華公園', 'tot': '40', 'sbi': '11', 'sarea': '三重區', 'mday': '20201023111441', 'lat': '25.060125', 'lng': '121.483101', 'ar': '重陽路一段120巷/中華路2巷', 'sareaen': 'Sanchong Dist.', 'snaen': 'Xinghua Park', 'aren': 'Ln. 120, Sec. 1, Chongyang Rd./Ln. 2, Zhonghua Rd.', 'bemp': '29', 'act': '1'}\n",
      " {'sno': '1009', 'sna': '三重國民運動中心', 'tot': '68', 'sbi': '14', 'sarea': '三重區', 'mday': '20201023111440', 'lat': '25.054391', 'lng': '121.488489', 'ar': '集美街/重新路四段184巷', 'sareaen': 'Sanchong Dist.', 'snaen': 'San chong Civil Sports Center', 'aren': 'Jimei St., Sanchong Dist./Ln. 184, Sec. 4, Chongxin Rd.', 'bemp': '53', 'act': '1'}\n",
      " {'sno': '1010', 'sna': '捷運三重站(3號出口)', 'tot': '34', 'sbi': '9', 'sarea': '三重區', 'mday': '20201023111437', 'lat': '25.055883', 'lng': '121.484739', 'ar': '捷運路/捷運路37巷', 'sareaen': 'Sanchong Dist.', 'snaen': 'MRT Sanchong Sta. (Exit 3)', 'aren': 'Jieyun Rd./Ln. 37, Jieyun Rd.', 'bemp': '25', 'act': '1'}\n",
      " {'sno': '1011', 'sna': '樟樹國小', 'tot': '48', 'sbi': '31', 'sarea': '汐止區', 'mday': '20201023111438', 'lat': '25.066688', 'lng': '121.640367', 'ar': '樟樹二路/樟樹一路141巷', 'sareaen': 'Xizhi Dist.', 'snaen': 'Zhangshu Elementary School', 'aren': 'Zhangshu 2nd Rd./Ln. 141, Zhangshu 1st Rd.', 'bemp': '16', 'act': '1'}\n",
      " {'sno': '1012', 'sna': '金龍國小', 'tot': '52', 'sbi': '11', 'sarea': '汐止區', 'mday': '20201023111422', 'lat': '25.0688', 'lng': '121.628908', 'ar': '中興路/民族六街', 'sareaen': 'Xizhi Dist.', 'snaen': 'Jinlong Elementary School', 'aren': 'Zhongxing Rd./Minzu 6th St.', 'bemp': '41', 'act': '1'}\n",
      " {'sno': '1013', 'sna': '白雲國小', 'tot': '46', 'sbi': '20', 'sarea': '汐止區', 'mday': '20201023111436', 'lat': '25.047578', 'lng': '121.618888', 'ar': '民權街二段90號', 'sareaen': 'Xizhi Dist.', 'snaen': 'Pai Yun Primary School', 'aren': 'No.90, Sec. 2, Minquan St.', 'bemp': '26', 'act': '1'}\n",
      " {'sno': '1014', 'sna': '東勢宜興活動中心', 'tot': '52', 'sbi': '22', 'sarea': '汐止區', 'mday': '20201023111421', 'lat': '25.039031', 'lng': '121.624333', 'ar': '東勢街/芳園街', 'sareaen': 'Xizhi Dist.', 'snaen': 'Yixing-Dongshi Civic Center', 'aren': 'Dongshi St./Fangyuan St.', 'bemp': '30', 'act': '1'}\n",
      " {'sno': '1015', 'sna': '後港公園', 'tot': '40', 'sbi': '9', 'sarea': '新莊區', 'mday': '20201023111432', 'lat': '25.025358', 'lng': '121.428348', 'ar': '建安街/建安街57巷', 'sareaen': 'Xinzhuang Dist.', 'snaen': 'Hougang Park', 'aren': 'Ln. 57, Jian’an St./Jian’an St.', 'bemp': '31', 'act': '1'}\n",
      " {'sno': '1016', 'sna': '福營行政中心', 'tot': '42', 'sbi': '13', 'sarea': '新莊區', 'mday': '20201023111430', 'lat': '25.0241250', 'lng': '121.423870', 'ar': '四維路17號-20號', 'sareaen': 'Xinzhuang Dist.', 'snaen': 'Fuying Administration Center', 'aren': 'No.17, Siwei Rd./No.20, Siwei Rd.', 'bemp': '29', 'act': '1'}\n",
      " {'sno': '1017', 'sna': '西盛公園', 'tot': '36', 'sbi': '16', 'sarea': '新莊區', 'mday': '20201023111435', 'lat': '25.017113', 'lng': '121.428048', 'ar': '新莊區西盛街/西盛街201巷', 'sareaen': 'Xinzhuang Dist.', 'snaen': 'Xisheng Park', 'aren': 'Xisheng St./Ln. 201, Xisheng St.', 'bemp': '20', 'act': '1'}\n",
      " {'sno': '1018', 'sna': '忠誠里(北新路2段97巷)', 'tot': '40', 'sbi': '22', 'sarea': '新店區', 'mday': '20201023111445', 'lat': '24.974272', 'lng': '121.542779', 'ar': '北新路二段/北新路二段97巷', 'sareaen': 'Xindian Dist.', 'snaen': 'Zhongcheng Village (Ln. 97, Sec. 2, Beixin Rd)', 'aren': 'Sec. 2, Beixin Rd./Ln. 97, Sec. 2, Beixin Rd.', 'bemp': '16', 'act': '1'}\n",
      " {'sno': '1019', 'sna': '仁愛廣場', 'tot': '50', 'sbi': '12', 'sarea': '蘆洲區', 'mday': '20201023111438', 'lat': '25.090565', 'lng': '121.471621', 'ar': '民權路139號旁', 'sareaen': 'Luzhou Dist.', 'snaen': 'Renai Square', 'aren': 'No.139, Minquan Rd.', 'bemp': '38', 'act': '1'}\n",
      " {'sno': '1020', 'sna': '重陽國小', 'tot': '42', 'sbi': '9', 'sarea': '三重區', 'mday': '20201023111431', 'lat': '25.066245 ', 'lng': '121.484337 ', 'ar': '中正北路/三民街175巷', 'sareaen': 'Sanchong Dist.', 'snaen': 'Chong Yang Elementary School', 'aren': 'Zhongzheng N. Rd./Ln. 175, Sanmin St.', 'bemp': '27', 'act': '1'}]\n"
     ]
    }
   ],
   "source": [
    "import requests\n",
    "import json\n",
    "import numpy as np\n",
    "import pandas as pd\n",
    "\n",
    "response = requests.get(\"https://data.ntpc.gov.tw/api/datasets/71CD1490-A2DF-4198-BEF1-318479775E8A/json\")\n",
    "content = response.content\n",
    "json_tree = json.loads(content)\n",
    "ndarr = np.array(json_tree)\n",
    "print(\"The downloaded data in ndarray format\")\n",
    "print(ndarr)"
   ]
  },
  {
   "cell_type": "code",
   "execution_count": 6,
   "metadata": {
    "scrolled": true
   },
   "outputs": [
    {
     "name": "stdout",
     "output_type": "stream",
     "text": [
      "The downloaded data in dataframe format\n"
     ]
    },
    {
     "data": {
      "text/html": [
       "<div>\n",
       "<style scoped>\n",
       "    .dataframe tbody tr th:only-of-type {\n",
       "        vertical-align: middle;\n",
       "    }\n",
       "\n",
       "    .dataframe tbody tr th {\n",
       "        vertical-align: top;\n",
       "    }\n",
       "\n",
       "    .dataframe thead th {\n",
       "        text-align: right;\n",
       "    }\n",
       "</style>\n",
       "<table border=\"1\" class=\"dataframe\">\n",
       "  <thead>\n",
       "    <tr style=\"text-align: right;\">\n",
       "      <th></th>\n",
       "      <th>Id</th>\n",
       "      <th>Name</th>\n",
       "      <th>Total</th>\n",
       "      <th>Sbi</th>\n",
       "      <th>Strat</th>\n",
       "      <th>Day</th>\n",
       "      <th>Late</th>\n",
       "      <th>Ing</th>\n",
       "      <th>Armd</th>\n",
       "      <th>Terminal</th>\n",
       "      <th>Snaen</th>\n",
       "      <th>Arean</th>\n",
       "      <th>Bemp</th>\n",
       "      <th>Action</th>\n",
       "    </tr>\n",
       "  </thead>\n",
       "  <tbody>\n",
       "    <tr>\n",
       "      <th>15</th>\n",
       "      <td>1016</td>\n",
       "      <td>福營行政中心</td>\n",
       "      <td>42</td>\n",
       "      <td>13</td>\n",
       "      <td>新莊區</td>\n",
       "      <td>20201023111430</td>\n",
       "      <td>25.0241250</td>\n",
       "      <td>121.423870</td>\n",
       "      <td>四維路17號-20號</td>\n",
       "      <td>Xinzhuang Dist.</td>\n",
       "      <td>Fuying Administration Center</td>\n",
       "      <td>No.17, Siwei Rd./No.20, Siwei Rd.</td>\n",
       "      <td>29</td>\n",
       "      <td>1</td>\n",
       "    </tr>\n",
       "    <tr>\n",
       "      <th>16</th>\n",
       "      <td>1017</td>\n",
       "      <td>西盛公園</td>\n",
       "      <td>36</td>\n",
       "      <td>16</td>\n",
       "      <td>新莊區</td>\n",
       "      <td>20201023111435</td>\n",
       "      <td>25.017113</td>\n",
       "      <td>121.428048</td>\n",
       "      <td>新莊區西盛街/西盛街201巷</td>\n",
       "      <td>Xinzhuang Dist.</td>\n",
       "      <td>Xisheng Park</td>\n",
       "      <td>Xisheng St./Ln. 201, Xisheng St.</td>\n",
       "      <td>20</td>\n",
       "      <td>1</td>\n",
       "    </tr>\n",
       "    <tr>\n",
       "      <th>17</th>\n",
       "      <td>1018</td>\n",
       "      <td>忠誠里(北新路2段97巷)</td>\n",
       "      <td>40</td>\n",
       "      <td>22</td>\n",
       "      <td>新店區</td>\n",
       "      <td>20201023111445</td>\n",
       "      <td>24.974272</td>\n",
       "      <td>121.542779</td>\n",
       "      <td>北新路二段/北新路二段97巷</td>\n",
       "      <td>Xindian Dist.</td>\n",
       "      <td>Zhongcheng Village (Ln. 97, Sec. 2, Beixin Rd)</td>\n",
       "      <td>Sec. 2, Beixin Rd./Ln. 97, Sec. 2, Beixin Rd.</td>\n",
       "      <td>16</td>\n",
       "      <td>1</td>\n",
       "    </tr>\n",
       "    <tr>\n",
       "      <th>18</th>\n",
       "      <td>1019</td>\n",
       "      <td>仁愛廣場</td>\n",
       "      <td>50</td>\n",
       "      <td>12</td>\n",
       "      <td>蘆洲區</td>\n",
       "      <td>20201023111438</td>\n",
       "      <td>25.090565</td>\n",
       "      <td>121.471621</td>\n",
       "      <td>民權路139號旁</td>\n",
       "      <td>Luzhou Dist.</td>\n",
       "      <td>Renai Square</td>\n",
       "      <td>No.139, Minquan Rd.</td>\n",
       "      <td>38</td>\n",
       "      <td>1</td>\n",
       "    </tr>\n",
       "    <tr>\n",
       "      <th>19</th>\n",
       "      <td>1020</td>\n",
       "      <td>重陽國小</td>\n",
       "      <td>42</td>\n",
       "      <td>9</td>\n",
       "      <td>三重區</td>\n",
       "      <td>20201023111431</td>\n",
       "      <td>25.066245</td>\n",
       "      <td>121.484337</td>\n",
       "      <td>中正北路/三民街175巷</td>\n",
       "      <td>Sanchong Dist.</td>\n",
       "      <td>Chong Yang Elementary School</td>\n",
       "      <td>Zhongzheng N. Rd./Ln. 175, Sanmin St.</td>\n",
       "      <td>27</td>\n",
       "      <td>1</td>\n",
       "    </tr>\n",
       "  </tbody>\n",
       "</table>\n",
       "</div>"
      ],
      "text/plain": [
       "      Id           Name Total Sbi Strat             Day        Late  \\\n",
       "15  1016         福營行政中心    42  13   新莊區  20201023111430  25.0241250   \n",
       "16  1017           西盛公園    36  16   新莊區  20201023111435   25.017113   \n",
       "17  1018  忠誠里(北新路2段97巷)    40  22   新店區  20201023111445   24.974272   \n",
       "18  1019           仁愛廣場    50  12   蘆洲區  20201023111438   25.090565   \n",
       "19  1020           重陽國小    42   9   三重區  20201023111431  25.066245    \n",
       "\n",
       "            Ing            Armd         Terminal  \\\n",
       "15   121.423870      四維路17號-20號  Xinzhuang Dist.   \n",
       "16   121.428048  新莊區西盛街/西盛街201巷  Xinzhuang Dist.   \n",
       "17   121.542779  北新路二段/北新路二段97巷    Xindian Dist.   \n",
       "18   121.471621        民權路139號旁     Luzhou Dist.   \n",
       "19  121.484337     中正北路/三民街175巷   Sanchong Dist.   \n",
       "\n",
       "                                             Snaen  \\\n",
       "15                    Fuying Administration Center   \n",
       "16                                    Xisheng Park   \n",
       "17  Zhongcheng Village (Ln. 97, Sec. 2, Beixin Rd)   \n",
       "18                                    Renai Square   \n",
       "19                    Chong Yang Elementary School   \n",
       "\n",
       "                                            Arean Bemp Action  \n",
       "15              No.17, Siwei Rd./No.20, Siwei Rd.   29      1  \n",
       "16               Xisheng St./Ln. 201, Xisheng St.   20      1  \n",
       "17  Sec. 2, Beixin Rd./Ln. 97, Sec. 2, Beixin Rd.   16      1  \n",
       "18                            No.139, Minquan Rd.   38      1  \n",
       "19          Zhongzheng N. Rd./Ln. 175, Sanmin St.   27      1  "
      ]
     },
     "execution_count": 6,
     "metadata": {},
     "output_type": "execute_result"
    }
   ],
   "source": [
    "ID = [item['sno'] for item in json_tree]\n",
    "NAME = [item['sna'] for item in json_tree]\n",
    "TOTAL = [item['tot'] for item in json_tree]\n",
    "SBI = [item['sbi'] for item in json_tree]\n",
    "START = [item['sarea'] for item in json_tree]\n",
    "DAY = [item['mday'] for item in json_tree]\n",
    "LATE = [item['lat'] for item in json_tree]\n",
    "ING = [item['lng'] for item in json_tree]\n",
    "ARMD = [item['ar'] for item in json_tree]\n",
    "STATION = [item['sareaen'] for item in json_tree]\n",
    "SNAEN = [item['snaen'] for item in json_tree]\n",
    "AREN = [item['aren'] for item in json_tree]\n",
    "BEMP = [item['bemp'] for item in json_tree]\n",
    "ACTION = [item['act'] for item in json_tree]\n",
    "Info = zip(ID, NAME, TOTAL, SBI,START,DAY,LATE,ING, ARMD,STATION,SNAEN,AREN,BEMP,ACTION)\n",
    "Taiwan_Bike = pd.DataFrame(list(Info), columns=['Id', 'Name','Total','Sbi','Strat','Day','Late','Ing','Armd',\n",
    "                                           'Terminal','Snaen','Arean','Bemp','Action'])\n",
    "\n",
    "print(\"The downloaded data in dataframe format\")\n",
    "Taiwan_Bike.tail()"
   ]
  },
  {
   "cell_type": "code",
   "execution_count": 7,
   "metadata": {},
   "outputs": [
    {
     "name": "stdout",
     "output_type": "stream",
     "text": [
      "Before sorted\n",
      "[[38.    56.    46.    56.    40.    94.    34.    40.    68.    34.\n",
      "  48.    52.    46.    52.    40.    42.    36.    40.    50.    42.   ]\n",
      " [65.789 69.643 32.609 58.929 57.5   35.106 23.529 27.5   20.588 26.471\n",
      "  64.583 21.154 43.478 42.308 22.5   30.952 44.444 55.    24.    21.429]]\n",
      "x has been sorted\n",
      "[[34.    34.    36.    38.    40.    40.    40.    40.    42.    42.\n",
      "  46.    46.    48.    50.    52.    52.    56.    56.    68.    94.   ]\n",
      " [26.471 23.529 44.444 65.789 57.5   27.5   22.5   55.    30.952 21.429\n",
      "  32.609 43.478 64.583 24.    21.154 42.308 69.643 58.929 20.588 35.106]]\n"
     ]
    }
   ],
   "source": [
    "import numpy as np\n",
    "lrat = []\n",
    "for bike_rent_records in json_tree:\n",
    "    LRATIO = float(bike_rent_records[\"sbi\"]) / float(bike_rent_records[\"tot\"]) * 100\n",
    "    lrat.append(round(LRATIO,3))\n",
    "y=lrat\n",
    "#slice dataframe colomn of 3\n",
    "xstr=Taiwan_Bike.iloc[:,2]\n",
    "#convert a string array to a float array\n",
    "x = xstr.astype(np.float)\n",
    "data = np.vstack((x,y)).T\n",
    "sdata = data[data[:,0].argsort()]\n",
    "#sdata = data[np.argsort(data[:, 0])]\n",
    "print(\"Before sorted\")\n",
    "print(data.T)\n",
    "print(\"x has been sorted\")\n",
    "print(sdata.T)\n",
    "#plt.scatter(x,y)"
   ]
  },
  {
   "cell_type": "code",
   "execution_count": 22,
   "metadata": {},
   "outputs": [
    {
     "data": {
      "text/plain": [
       "Text(0, 0.5, 'LeftRasio')"
      ]
     },
     "execution_count": 22,
     "metadata": {},
     "output_type": "execute_result"
    },
    {
     "data": {
      "image/png": "[encoded data removed]",
      "text/plain": [
       "<Figure size 432x288 with 1 Axes>"
      ]
     },
     "metadata": {
      "needs_background": "light"
     },
     "output_type": "display_data"
    }
   ],
   "source": [
    "x = sdata[:,0]\n",
    "y = sdata[:,1]\n",
    "plt.plot(x,y,color='red', linewidth=1)\n",
    "plt.title(\"Plot Total versus LeftRatio\")\n",
    "plt.xlabel(\"Total\")\n",
    "plt.ylabel(\"LeftRasio\")"
   ]
  },
  {
   "cell_type": "code",
   "execution_count": null,
   "metadata": {},
   "outputs": [],
   "source": []
  }
 ],
 "metadata": {
  "kernelspec": {
   "display_name": "Python 3",
   "language": "python",
   "name": "python3"
  },
  "language_info": {
   "codemirror_mode": {
    "name": "ipython",
    "version": 3
   },
   "file_extension": ".py",
   "mimetype": "text/x-python",
   "name": "python",
   "nbconvert_exporter": "python",
   "pygments_lexer": "ipython3",
   "version": "3.7.3"
  }
 },
 "nbformat": 4,
 "nbformat_minor": 4
}
